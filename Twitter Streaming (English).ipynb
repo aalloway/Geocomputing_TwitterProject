{
 "cells": [
  {
   "cell_type": "code",
   "execution_count": null,
   "metadata": {},
   "outputs": [],
   "source": [
    "#Import TwitterAPI\n",
    "from TwitterAPI import TwitterAPI\n",
    "\n",
    "#Consumer and Access Keys: https://developer.twitter.com/en/docs/basics/authentication/guides/access-tokens for more info\n",
    "consumer_key = \"your key\"\n",
    "consumer_secret = \"your secret\"\n",
    "access_token_key = \"your token\"\n",
    "access_token_secret = \"your secret\"\n",
    "\n",
    "print(\"Consumer and access keys and secrets added\")\n",
    "\n",
    "#Keywords as dictionary\n",
    "keywords = {\n",
    "    'germany':'germany', \n",
    "    'greece':'greece',\n",
    "    'sweden': 'sweden',\n",
    "    'austria': 'austria',\n",
    "    'uk': 'uk',\n",
    "    'france': 'france',\n",
    "    'italy': 'italy',\n",
    "    'syria' : 'syria',\n",
    "                }\n",
    "\n",
    "#Setup for accessing the Tweet stream\n",
    "api = TwitterAPI(consumer_key, consumer_secret, access_token_key, access_token_secret)\n",
    "r = api.request('statuses/filter', {'track': keywords.values()})\n",
    "\n",
    "#Open file\n",
    "outputfile =  open('the name of your csv', 'w+', encoding='utf-8')\n",
    "outputfile.writelines(['tid',',', 'text'])\n",
    "\n",
    "\n",
    "i = 0\n",
    "j = 200000\n",
    "    \n",
    "#Looping tweets\n",
    "for tweet in r:\n",
    "    if 'text' not in tweet:\n",
    "        continue\n",
    "   # if 'coordinates' not in tweet or tweet['coordinates'] == None:\n",
    "       # continue\n",
    "        \n",
    "    outputfile.write(tweet['id_str'])\n",
    "    outputfile.write(',')\n",
    "    outputfile.write(tweet['text'])\n",
    "   # outputfile.write(',')\n",
    "  #  outputfile.writelines(str(tweet['coordinates']['coordinates']))\n",
    "   # outputfile.write(',')\n",
    "    #outputfile.write(tweet['place']['country_code'])\n",
    "    outputfile.write('\\n')\n",
    "    i += 1\n",
    "    if i>j:\n",
    "        break\n",
    "\n",
    "outputfile.close()\n",
    "print('run again')"
   ]
  }
 ],
 "metadata": {
  "kernelspec": {
   "display_name": "Python 3",
   "language": "python",
   "name": "python3"
  },
  "language_info": {
   "codemirror_mode": {
    "name": "ipython",
    "version": 3
   },
   "file_extension": ".py",
   "mimetype": "text/x-python",
   "name": "python",
   "nbconvert_exporter": "python",
   "pygments_lexer": "ipython3",
   "version": "3.6.4"
  }
 },
 "nbformat": 4,
 "nbformat_minor": 2
}
